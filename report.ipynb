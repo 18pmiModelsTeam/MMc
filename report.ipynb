{
 "cells": [
  {
   "cell_type": "code",
   "execution_count": 1,
   "metadata": {},
   "outputs": [],
   "source": [
    "from subprocess import Popen, PIPE, CalledProcessError\n",
    "import ast"
   ]
  },
  {
   "cell_type": "code",
   "execution_count": 3,
   "metadata": {},
   "outputs": [],
   "source": [
    "def simulate(mean_arrival_time, mean_departure_time, servers, simulation_time):\n",
    "    cmd = '.\\cmake-build-debug\\mmc_simulation.exe {} {} {} {} --verbose'.format(mean_arrival_time, mean_departure_time, servers, simulation_time)\n",
    "    with Popen(cmd, stdout=PIPE, stderr=PIPE, bufsize=1, universal_newlines=True) as p:\n",
    "        cout, cerr = p.communicate()\n",
    "        if p.returncode != 0:\n",
    "            raise CalledProcessError(p.returncode, p.args)\n",
    "        cout = cout.split('\\n')\n",
    "        cerr = cerr.split('\\n')\n",
    "        statistics = ast.literal_eval('{'+''.join(elem+',' for elem in cout[:4])[:-1]+'}')\n",
    "        if 'stationary probabilities for states' in cout[-2]:\n",
    "            last_index = -2\n",
    "        else:\n",
    "            last_index = -1\n",
    "        probabilities = ast.literal_eval('{'+''.join(elem+',' for elem in cout[5:last_index])[:-1]+'}')\n",
    "        return statistics, probabilities"
   ]
  },
  {
   "cell_type": "code",
   "execution_count": 6,
   "metadata": {},
   "outputs": [],
   "source": [
    "statistics, probabilities = simulate(10, 150, 20, 2000)"
   ]
  },
  {
   "cell_type": "code",
   "execution_count": 7,
   "metadata": {},
   "outputs": [
    {
     "name": "stdout",
     "output_type": "stream",
     "text": [
      "{'total_time': 2000.0, 'served': 139, 'denied': 0, 'average_state': 14.6}\n",
      "{0: 0.0034, 1: 0.0034, 2: 0.0034, 3: 0.0034, 4: 0.0034, 5: 0.0034, 6: 0.0034, 7: 0.0034, 8: 0.0034, 9: 0.0034, 10: 0.0034, 11: 0.0034, 12: 0.0034, 13: 0.0034, 14: 0.221, 15: 0.476, 16: 0.255}\n"
     ]
    }
   ],
   "source": [
    "print(statistics)\n",
    "print(probabilities)"
   ]
  },
  {
   "cell_type": "code",
   "execution_count": null,
   "metadata": {},
   "outputs": [],
   "source": []
  }
 ],
 "metadata": {
  "kernelspec": {
   "display_name": "Python 3",
   "language": "python",
   "name": "python3"
  },
  "language_info": {
   "codemirror_mode": {
    "name": "ipython",
    "version": 3
   },
   "file_extension": ".py",
   "mimetype": "text/x-python",
   "name": "python",
   "nbconvert_exporter": "python",
   "pygments_lexer": "ipython3",
   "version": "3.8.3"
  }
 },
 "nbformat": 4,
 "nbformat_minor": 4
}
